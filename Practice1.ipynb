{
 "cells": [
  {
   "cell_type": "code",
   "execution_count": 1,
   "id": "e9a9c74b",
   "metadata": {},
   "outputs": [
    {
     "data": {
      "text/plain": [
       "8"
      ]
     },
     "execution_count": 1,
     "metadata": {},
     "output_type": "execute_result"
    }
   ],
   "source": [
    "1+7"
   ]
  },
  {
   "cell_type": "code",
   "execution_count": 2,
   "id": "56b71d4d",
   "metadata": {},
   "outputs": [
    {
     "data": {
      "text/plain": [
       "105"
      ]
     },
     "execution_count": 2,
     "metadata": {},
     "output_type": "execute_result"
    }
   ],
   "source": [
    "9+96"
   ]
  },
  {
   "cell_type": "raw",
   "id": "c9d0ee19",
   "metadata": {},
   "source": [
    "Hi There , I'm just practicing "
   ]
  },
  {
   "cell_type": "code",
   "execution_count": null,
   "id": "7c9d2fcd",
   "metadata": {},
   "outputs": [],
   "source": []
  }
 ],
 "metadata": {
  "kernelspec": {
   "display_name": "Python 3 (ipykernel)",
   "language": "python",
   "name": "python3"
  },
  "language_info": {
   "codemirror_mode": {
    "name": "ipython",
    "version": 3
   },
   "file_extension": ".py",
   "mimetype": "text/x-python",
   "name": "python",
   "nbconvert_exporter": "python",
   "pygments_lexer": "ipython3",
   "version": "3.9.13"
  }
 },
 "nbformat": 4,
 "nbformat_minor": 5
}
